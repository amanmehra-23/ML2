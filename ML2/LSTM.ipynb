{
 "cells": [
  {
   "cell_type": "markdown",
   "metadata": {
    "id": "Qtdo2Tl5yAJN"
   },
   "source": [
    "## LSTM Experiment\n",
    "Insert Code wherever represented with \"#***************#\""
   ]
  },
  {
   "cell_type": "code",
   "execution_count": 2,
   "metadata": {},
   "outputs": [
    {
     "name": "stdout",
     "output_type": "stream",
     "text": [
      "Collecting keras-preprocessing\n",
      "  Obtaining dependency information for keras-preprocessing from https://files.pythonhosted.org/packages/79/4c/7c3275a01e12ef9368a892926ab932b33bb13d55794881e3573482b378a7/Keras_Preprocessing-1.1.2-py2.py3-none-any.whl.metadata\n",
      "  Downloading Keras_Preprocessing-1.1.2-py2.py3-none-any.whl.metadata (1.9 kB)\n",
      "Requirement already satisfied: numpy>=1.9.1 in /Users/amanmehra/anaconda3/lib/python3.11/site-packages (from keras-preprocessing) (1.24.3)\n",
      "Requirement already satisfied: six>=1.9.0 in /Users/amanmehra/anaconda3/lib/python3.11/site-packages (from keras-preprocessing) (1.16.0)\n",
      "Downloading Keras_Preprocessing-1.1.2-py2.py3-none-any.whl (42 kB)\n",
      "\u001b[2K   \u001b[90m━━━━━━━━━━━━━━━━━━━━━━━━━━━━━━━━━━━━━━━━\u001b[0m \u001b[32m42.6/42.6 kB\u001b[0m \u001b[31m3.0 MB/s\u001b[0m eta \u001b[36m0:00:00\u001b[0m\n",
      "\u001b[?25hInstalling collected packages: keras-preprocessing\n",
      "Successfully installed keras-preprocessing-1.1.2\n",
      "Note: you may need to restart the kernel to use updated packages.\n"
     ]
    }
   ],
   "source": [
    "#pip install keras-preprocessing\n"
   ]
  },
  {
   "cell_type": "code",
   "execution_count": 3,
   "metadata": {
    "id": "-HQmhSkD10dq"
   },
   "outputs": [],
   "source": [
    "import numpy\n",
    "from keras.datasets import imdb\n",
    "from keras.models import Sequential\n",
    "from keras.layers import Dense\n",
    "from keras.layers import LSTM\n",
    "from keras.layers import Embedding\n",
    "from keras.preprocessing import sequence\n",
    "from keras_preprocessing.sequence import pad_sequences\n",
    "\n",
    "# fix random seed for reproducibility\n",
    "numpy.random.seed(7)"
   ]
  },
  {
   "cell_type": "code",
   "execution_count": 4,
   "metadata": {
    "id": "WKKlKKsy3ZeT"
   },
   "outputs": [
    {
     "name": "stdout",
     "output_type": "stream",
     "text": [
      "Downloading data from https://storage.googleapis.com/tensorflow/tf-keras-datasets/imdb.npz\n",
      "17464789/17464789 [==============================] - 3s 0us/step\n"
     ]
    }
   ],
   "source": [
    "top_words = 5000\n",
    "\"\"\"\n",
    "    Load the IMDB Movie Review dataset and train them into train and split from imdb.load_dataset\n",
    "    Also mention the num_words parameter as top_words\n",
    "\"\"\"\n",
    "(X_train, y_train), (X_test, y_test) = imdb.load_data(num_words=top_words)\n",
    "\n",
    "# Pad the sequences to ensure they have the same length\n",
    "max_review_length = 500  # You can adjust this value depending on your preference\n",
    "X_train = pad_sequences(X_train, maxlen=max_review_length)\n",
    "X_test = pad_sequences(X_test, maxlen=max_review_length)\n",
    "#********************#"
   ]
  },
  {
   "cell_type": "code",
   "execution_count": 5,
   "metadata": {
    "colab": {
     "base_uri": "https://localhost:8080/"
    },
    "id": "oILf-5_z3a35",
    "outputId": "87e4b564-973d-4952-8e43-1013c7da4e65"
   },
   "outputs": [
    {
     "name": "stdout",
     "output_type": "stream",
     "text": [
      "[   0    0    0    0    0    0    0    0    0    0    0    0    0    0\n",
      "    0    0    0    0    0    0    0    0    0    0    0    0    0    0\n",
      "    0    0    0    0    0    0    0    0    0    0    0    0    0    0\n",
      "    0    0    0    0    0    0    0    0    0    0    0    0    0    0\n",
      "    0    0    0    0    0    0    0    0    0    0    0    0    0    0\n",
      "    0    0    0    0    0    0    0    0    0    0    0    0    0    0\n",
      "    0    0    0    0    0    0    0    0    0    0    0    0    0    0\n",
      "    0    0    0    0    0    0    0    0    0    0    0    0    0    0\n",
      "    0    0    0    0    0    0    0    0    0    0    0    0    0    0\n",
      "    0    0    0    0    0    0    0    0    0    0    0    0    0    0\n",
      "    0    0    0    0    0    0    0    0    0    0    0    0    0    0\n",
      "    0    0    0    0    0    0    0    0    0    0    0    0    0    0\n",
      "    0    0    0    0    0    0    0    0    0    0    0    0    0    0\n",
      "    0    0    0    0    0    0    0    0    0    0    0    0    0    0\n",
      "    0    0    0    0    0    0    0    0    0    0    0    0    0    0\n",
      "    0    0    0    0    0    0    0    0    0    0    0    0    0    0\n",
      "    0    0    0    0    0    0    0    0    0    0    0    0    0    0\n",
      "    0    0    0    0    0    0    0    0    0    0    0    0    0    0\n",
      "    0    0    0    0    0    0    0    0    0    0    0    0    0    0\n",
      "    0    0    0    0    0    0    0    0    0    0    0    0    0    0\n",
      "    0    0    0    0    0    0    0    0    0    0    0    0    0    0\n",
      "    0    0    0    0    0    0    0    0    0    0    0    0    0    0\n",
      "    0    0    0    1  194 1153  194    2   78  228    5    6 1463 4369\n",
      "    2  134   26    4  715    8  118 1634   14  394   20   13  119  954\n",
      "  189  102    5  207  110 3103   21   14   69  188    8   30   23    7\n",
      "    4  249  126   93    4  114    9 2300 1523    5  647    4  116    9\n",
      "   35    2    4  229    9  340 1322    4  118    9    4  130 4901   19\n",
      "    4 1002    5   89   29  952   46   37    4  455    9   45   43   38\n",
      " 1543 1905  398    4 1649   26    2    5  163   11 3215    2    4 1153\n",
      "    9  194  775    7    2    2  349 2637  148  605    2    2   15  123\n",
      "  125   68    2    2   15  349  165 4362   98    5    4  228    9   43\n",
      "    2 1157   15  299  120    5  120  174   11  220  175  136   50    9\n",
      " 4373  228    2    5    2  656  245 2350    5    4    2  131  152  491\n",
      "   18    2   32    2 1212   14    9    6  371   78   22  625   64 1382\n",
      "    9    8  168  145   23    4 1690   15   16    4 1355    5   28    6\n",
      "   52  154  462   33   89   78  285   16  145   95]\n",
      "<class 'numpy.ndarray'>\n",
      "500\n",
      "0\n",
      "<class 'numpy.int64'>\n"
     ]
    }
   ],
   "source": [
    "print(X_train[1])\n",
    "print(type(X_train[1]))\n",
    "print(len(X_train[1]))\n",
    "print(y_train[1])\n",
    "print(type(y_train[1]))"
   ]
  },
  {
   "cell_type": "code",
   "execution_count": 11,
   "metadata": {
    "colab": {
     "base_uri": "https://localhost:8080/"
    },
    "id": "J9OUayrQ3cBJ",
    "outputId": "1daffdf4-6c51-4f2f-926b-9b77e7b9c72f"
   },
   "outputs": [
    {
     "name": "stdout",
     "output_type": "stream",
     "text": [
      "[   0    0    0    0    0    0    0    0    0    0    0    0    0    0\n",
      "    0    0    0    0    0    0    0    0    0    0    0    0    0    0\n",
      "    0    0    0    0    0    0    0    0    0    0    0    0    0    0\n",
      "    0    0    0    0    0    0    0    0    0    0    0    0    0    0\n",
      "    0    0    0    0    0    0    0    0    0    0    0    0    0    0\n",
      "    0    0    0    0    0    0    0    0    0    0    0    0    0    0\n",
      "    0    0    0    0    0    0    0    0    0    0    0    0    0    0\n",
      "    0    0    0    0    0    0    0    0    0    0    0    0    0    0\n",
      "    0    0    0    0    0    0    0    0    0    0    0    0    0    0\n",
      "    0    0    0    0    0    0    0    0    0    0    0    0    0    0\n",
      "    0    0    0    0    0    0    0    0    0    0    0    0    0    0\n",
      "    0    0    0    0    0    0    0    0    0    0    0    0    0    0\n",
      "    0    0    0    0    0    0    0    0    0    0    0    0    0    0\n",
      "    0    0    0    0    0    0    0    0    0    0    0    0    0    0\n",
      "    0    0    0    0    0    0    0    0    0    0    0    0    0    0\n",
      "    0    1  194 1153  194    2   78  228    5    6 1463 4369    2  134\n",
      "   26    4  715    8  118 1634   14  394   20   13  119  954  189  102\n",
      "    5  207  110 3103   21   14   69  188    8   30   23    7    4  249\n",
      "  126   93    4  114    9 2300 1523    5  647    4  116    9   35    2\n",
      "    4  229    9  340 1322    4  118    9    4  130 4901   19    4 1002\n",
      "    5   89   29  952   46   37    4  455    9   45   43   38 1543 1905\n",
      "  398    4 1649   26    2    5  163   11 3215    2    4 1153    9  194\n",
      "  775    7    2    2  349 2637  148  605    2    2   15  123  125   68\n",
      "    2    2   15  349  165 4362   98    5    4  228    9   43    2 1157\n",
      "   15  299  120    5  120  174   11  220  175  136   50    9 4373  228\n",
      "    2    5    2  656  245 2350    5    4    2  131  152  491   18    2\n",
      "   32    2 1212   14    9    6  371   78   22  625   64 1382    9    8\n",
      "  168  145   23    4 1690   15   16    4 1355    5   28    6   52  154\n",
      "  462   33   89   78  285   16  145   95]\n"
     ]
    }
   ],
   "source": [
    "# truncate and/or pad input sequences\n",
    "max_review_length = 400\n",
    "\"\"\"\n",
    "    Apply padding to both X_train and x_test variables with above mentioned max_review_length\n",
    "\"\"\"\n",
    "# Pad the sequences to ensure they have a fixed length of 400\n",
    "X_train = pad_sequences(X_train, maxlen=400)\n",
    "X_test = pad_sequences(X_test, maxlen=400)\n",
    "\n",
    "print(X_train[1])"
   ]
  },
  {
   "cell_type": "code",
   "execution_count": 12,
   "metadata": {
    "colab": {
     "base_uri": "https://localhost:8080/"
    },
    "id": "G1_PRdMR3dpx",
    "outputId": "12726b5b-a69c-4049-fade-e738061a2c7e"
   },
   "outputs": [],
   "source": [
    "import tensorflow as tf\n",
    "from tensorflow.keras.models import Sequential\n",
    "from tensorflow.keras.layers import Embedding, LSTM, Dense\n",
    "# Create the model\n",
    "\n",
    "embedding_vector_length = 32\n",
    "\n",
    "\"\"\"\n",
    "    Create LSTM Model using following Layers:\n",
    "    1. Embedding Layer\n",
    "    2. LSTM with 10 neurons\n",
    "    3. Dense Layer with sigmoid activation for Output\n",
    "\"\"\"\n",
    "model = Sequential()\n",
    "\n",
    "# Add the layers to the model\n",
    "model.add(Embedding(input_dim=16000, output_dim=embedding_vector_length, input_length=400))  # Embedding Layer\n",
    "model.add(LSTM(10))  # LSTM Layer with 10 neurons\n",
    "model.add(Dense(1, activation='sigmoid'))  # Dense Layer with sigmoid activation for output\n"
   ]
  },
  {
   "cell_type": "code",
   "execution_count": 13,
   "metadata": {
    "id": "kfvU5KSlMLrL"
   },
   "outputs": [
    {
     "name": "stdout",
     "output_type": "stream",
     "text": [
      "Model: \"sequential_1\"\n",
      "_________________________________________________________________\n",
      " Layer (type)                Output Shape              Param #   \n",
      "=================================================================\n",
      " embedding_1 (Embedding)     (None, 400, 32)           512000    \n",
      "                                                                 \n",
      " lstm_1 (LSTM)               (None, 10)                1720      \n",
      "                                                                 \n",
      " dense_1 (Dense)             (None, 1)                 11        \n",
      "                                                                 \n",
      "=================================================================\n",
      "Total params: 513731 (1.96 MB)\n",
      "Trainable params: 513731 (1.96 MB)\n",
      "Non-trainable params: 0 (0.00 Byte)\n",
      "_________________________________________________________________\n"
     ]
    }
   ],
   "source": [
    "\"\"\"\n",
    "    Compile the model using following criteria:\n",
    "    compile(loss, optimizer, metrics=['accuracy'])\n",
    "\"\"\"\n",
    "#********************#\n",
    "# Compile the model\n",
    "model.compile(loss='binary_crossentropy', optimizer='adam', metrics=['accuracy'])\n",
    "\n",
    "model.summary()"
   ]
  },
  {
   "cell_type": "code",
   "execution_count": 15,
   "metadata": {
    "colab": {
     "base_uri": "https://localhost:8080/"
    },
    "id": "RSY2soKK3fux",
    "outputId": "07c49f56-40a9-4b90-9078-30a0e2285625"
   },
   "outputs": [
    {
     "name": "stdout",
     "output_type": "stream",
     "text": [
      "Epoch 1/10\n",
      "98/98 [==============================] - 9s 94ms/step - loss: 0.1403 - accuracy: 0.9554 - val_loss: 0.3853 - val_accuracy: 0.8627\n",
      "Epoch 2/10\n",
      "98/98 [==============================] - 9s 95ms/step - loss: 0.1325 - accuracy: 0.9578 - val_loss: 0.4003 - val_accuracy: 0.8654\n",
      "Epoch 3/10\n",
      "98/98 [==============================] - 9s 95ms/step - loss: 0.1281 - accuracy: 0.9596 - val_loss: 0.3862 - val_accuracy: 0.8640\n",
      "Epoch 4/10\n",
      "98/98 [==============================] - 9s 96ms/step - loss: 0.1239 - accuracy: 0.9620 - val_loss: 0.4148 - val_accuracy: 0.8642\n",
      "Epoch 5/10\n",
      "98/98 [==============================] - 9s 96ms/step - loss: 0.1044 - accuracy: 0.9694 - val_loss: 0.4311 - val_accuracy: 0.8630\n",
      "Epoch 6/10\n",
      "98/98 [==============================] - 9s 95ms/step - loss: 0.1020 - accuracy: 0.9700 - val_loss: 0.4500 - val_accuracy: 0.8612\n",
      "Epoch 7/10\n",
      "98/98 [==============================] - 9s 96ms/step - loss: 0.1151 - accuracy: 0.9647 - val_loss: 0.4300 - val_accuracy: 0.8638\n",
      "Epoch 8/10\n",
      "98/98 [==============================] - 9s 96ms/step - loss: 0.1086 - accuracy: 0.9658 - val_loss: 0.4878 - val_accuracy: 0.8563\n",
      "Epoch 9/10\n",
      "98/98 [==============================] - 9s 95ms/step - loss: 0.0913 - accuracy: 0.9741 - val_loss: 0.4572 - val_accuracy: 0.8622\n",
      "Epoch 10/10\n",
      "98/98 [==============================] - 9s 97ms/step - loss: 0.0850 - accuracy: 0.9763 - val_loss: 0.4787 - val_accuracy: 0.8614\n",
      "Accuracy: 86.14%\n"
     ]
    }
   ],
   "source": [
    "hist=model.fit(X_train, y_train, epochs=10, batch_size=256,verbose=1, validation_data=(X_test,y_test))\n",
    "\n",
    "# Final evaluation of the model\n",
    "scores = model.evaluate(X_test, y_test, verbose=0)\n",
    "\n",
    "\"\"\"\n",
    "    Print Accuracy acheived by model using the above created scores variable\n",
    "\"\"\"\n",
    "print(\"Accuracy: %.2f%%\" % (scores[1] * 100))"
   ]
  },
  {
   "cell_type": "code",
   "execution_count": 16,
   "metadata": {
    "colab": {
     "base_uri": "https://localhost:8080/",
     "height": 282
    },
    "id": "qk75Y2oLxvgG",
    "outputId": "e64c8294-4bb0-4aab-fd77-3106db718696"
   },
   "outputs": [
    {
     "data": {
      "image/png": "[encoded data removed]",
      "text/plain": [
       "<Figure size 640x480 with 1 Axes>"
      ]
     },
     "metadata": {},
     "output_type": "display_data"
    }
   ],
   "source": [
    "import matplotlib.pyplot as plt\n",
    "\"\"\"\n",
    "    Plot graph between epoch vs Accuracy\n",
    "\"\"\"\n",
    "plt.plot(hist.history['accuracy'], label='Training Accuracy')\n",
    "plt.plot(hist.history['val_accuracy'], label='Validation Accuracy')\n",
    "plt.title('Epoch vs Accuracy')\n",
    "plt.xlabel('Epoch')\n",
    "plt.ylabel('Accuracy')\n",
    "plt.legend(loc='upper left')\n",
    "plt.show()\n"
   ]
  },
  {
   "cell_type": "code",
   "execution_count": 17,
   "metadata": {
    "id": "MnLtrd2cPKKl"
   },
   "outputs": [
    {
     "data": {
      "image/png": "[encoded data removed]",
      "text/plain": [
       "<Figure size 640x480 with 1 Axes>"
      ]
     },
     "metadata": {},
     "output_type": "display_data"
    }
   ],
   "source": [
    "import matplotlib.pyplot as plt\n",
    "\"\"\"\n",
    "    Plot graph between epoch vs loss\n",
    "\"\"\"\n",
    "# Plot graph between epoch vs loss\n",
    "plt.plot(hist.history['loss'], label='Training Loss')\n",
    "plt.plot(hist.history['val_loss'], label='Validation Loss')\n",
    "plt.title('Epoch vs Loss')\n",
    "plt.xlabel('Epoch')\n",
    "plt.ylabel('Loss')\n",
    "plt.legend(loc='upper right')\n",
    "plt.show()"
   ]
  },
  {
   "cell_type": "code",
   "execution_count": 18,
   "metadata": {
    "colab": {
     "base_uri": "https://localhost:8080/"
    },
    "id": "ljHLeFMbxvgH",
    "outputId": "28e32751-1857-41b3-b98c-a429459b942c"
   },
   "outputs": [
    {
     "name": "stdout",
     "output_type": "stream",
     "text": [
      "782/782 [==============================] - 6s 7ms/step\n",
      "[[0.03565692]\n",
      " [0.9974325 ]\n",
      " [0.96540505]\n",
      " ...\n",
      " [0.00903539]\n",
      " [0.01728015]\n",
      " [0.97229445]]\n"
     ]
    }
   ],
   "source": [
    "pred=model.predict(X_test)\n",
    "print(pred)"
   ]
  },
  {
   "cell_type": "code",
   "execution_count": null,
   "metadata": {
    "id": "hW4Sqmh7NBIZ"
   },
   "outputs": [],
   "source": []
  }
 ],
 "metadata": {
  "colab": {
   "provenance": []
  },
  "kernelspec": {
   "display_name": "Python 3 (ipykernel)",
   "language": "python",
   "name": "python3"
  },
  "language_info": {
   "codemirror_mode": {
    "name": "ipython",
    "version": 3
   },
   "file_extension": ".py",
   "mimetype": "text/x-python",
   "name": "python",
   "nbconvert_exporter": "python",
   "pygments_lexer": "ipython3",
   "version": "3.11.4"
  }
 },
 "nbformat": 4,
 "nbformat_minor": 1
}
